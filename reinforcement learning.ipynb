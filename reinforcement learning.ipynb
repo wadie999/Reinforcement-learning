{
 "cells": [
  {
   "cell_type": "code",
   "execution_count": 1,
   "id": "68430af0",
   "metadata": {},
   "outputs": [
    {
     "data": {
      "text/latex": [
       "$\\displaystyle Q(s, a) = (1 - \\epsilon) \\cdot Q(s, a) + \\epsilon \\cdot \\left( R(s, a) + \\gamma \\cdot \\max_{a\\prime} Q(s\\prime, a\\prime) \\right)$"
      ],
      "text/plain": [
       "<IPython.core.display.Math object>"
      ]
     },
     "metadata": {},
     "output_type": "display_data"
    }
   ],
   "source": [
    "from IPython.display import display, Math\n",
    "display(Math(r'Q(s, a) = (1 - \\epsilon) \\cdot Q(s, a) + \\epsilon \\cdot \\left( R(s, a) + \\gamma \\cdot \\max_{a\\prime} Q(s\\prime, a\\prime) \\right)'))"
   ]
  },
  {
   "cell_type": "code",
   "execution_count": 2,
   "id": "b66c22e4",
   "metadata": {},
   "outputs": [
    {
     "data": {
      "text/latex": [
       "$\\displaystyle Q(s, a) = Q(s, a) + \\alpha \\cdot \\left( R(s, a) + \\gamma \\cdot \\max_{a\\prime} Q(s\\prime, a\\prime) - Q(s, a) \\right)$"
      ],
      "text/plain": [
       "<IPython.core.display.Math object>"
      ]
     },
     "metadata": {},
     "output_type": "display_data"
    }
   ],
   "source": [
    "display(Math(r'Q(s, a) = Q(s, a) + \\alpha \\cdot \\left( R(s, a) + \\gamma \\cdot \\max_{a\\prime} Q(s\\prime, a\\prime) - Q(s, a) \\right)'))"
   ]
  },
  {
   "cell_type": "code",
   "execution_count": 14,
   "id": "7d9e5c8b",
   "metadata": {},
   "outputs": [
    {
     "name": "stdout",
     "output_type": "stream",
     "text": [
      "Droite\n",
      "Droite\n",
      "Bas\n",
      "Droite\n",
      "Bas\n",
      "Bas\n",
      "Bas\n",
      "Gauche\n"
     ]
    }
   ],
   "source": [
    "import numpy as np\n",
    "\n",
    "# Définition de la grille\n",
    "grid = np.array([\n",
    "    [0,    -1,   -1, -1, -1, -50],\n",
    "    [-1,  -50,   -1, -1, -1, -50],\n",
    "    [-1,   -1,   -1, -1, -1,  -1],\n",
    "    [-1,  -50,  -50, -1, -1,  -50],\n",
    "    [-1,  -50,   50, -1, -1,  -1],\n",
    "    [-1,   -1,   -1, -1, -1,  -1],\n",
    "])\n",
    "\n",
    "# Hyperparamètres\n",
    "learning_rate = 0.1\n",
    "discount_factor = 0.9\n",
    "epsilon = 0.1\n",
    "num_episodes = 1000\n",
    "\n",
    "# Positions des actions dans la grille\n",
    "actions_positions = [\n",
    "    (-1, 0),  # Action 0 : Haut\n",
    "    (1, 0),   # Action 1 : Bas\n",
    "    (0, -1),  # Action 2 : Gauche\n",
    "    (0, 1)    # Action 3 : Droite\n",
    "]\n",
    "\n",
    "# Initialisation de la table Q\n",
    "num_states = grid.size\n",
    "num_actions = 4  # 4 actions possibles : haut, bas, gauche, droite\n",
    "Q = np.zeros((num_states, num_actions))\n",
    "\n",
    "# Fonction epsilon-greedy pour choisir l'action\n",
    "def epsilon_greedy(state):\n",
    "    if np.random.uniform(0, 1) < epsilon:\n",
    "        # Exploration : choisir une action au hasard\n",
    "        action = np.random.choice(num_actions)\n",
    "    else:\n",
    "        # Exploitation : choisir l'action avec la valeur Q maximale\n",
    "        action = np.argmax(Q[state])\n",
    "    return action\n",
    "\n",
    "# Entraînement de l'agent\n",
    "for episode in range(num_episodes):\n",
    "    state = 0  # Point de départ (A)\n",
    "    done = False\n",
    "    while not done:\n",
    "        action = epsilon_greedy(state)\n",
    "        i, j = divmod(state, grid.shape[1])\n",
    "        next_i, next_j = actions_positions[action]\n",
    "        next_i, next_j = i + next_i, j + next_j\n",
    "        if 0 <= next_i < grid.shape[0] and 0 <= next_j < grid.shape[1]:  # Vérification de validité de l'état suivant\n",
    "            next_state = next_i * grid.shape[1] + next_j\n",
    "            reward = grid[next_i, next_j]\n",
    "            Q[state, action] += learning_rate * (reward + discount_factor * np.max(Q[next_state]) - Q[state, action])\n",
    "            state = next_state\n",
    "            done = (reward == 50)  # Arrêter si le trésor est atteint\n",
    "        else:\n",
    "            # L'action conduirait à une position invalide, répéter l'itération\n",
    "            continue\n",
    "\n",
    "# Chemin optimal trouvé\n",
    "path = []\n",
    "state = 0\n",
    "done = False\n",
    "while not done:\n",
    "    action = np.argmax(Q[state])\n",
    "    path.append(action)\n",
    "    i, j = divmod(state, grid.shape[1])\n",
    "    next_i, next_j = actions_positions[action]\n",
    "    next_i, next_j = i + next_i, j + next_j\n",
    "    state = next_i * grid.shape[1] + next_j\n",
    "    done = (grid[next_i, next_j] == 50)\n",
    "\n",
    "# Affichage du chemin optimal\n",
    "directions = [\"Haut\", \"Bas\", \"Gauche\", \"Droite\"]\n",
    "for action in path:\n",
    "    print(directions[action])\n"
   ]
  },
  {
   "cell_type": "code",
   "execution_count": null,
   "id": "47a070e0",
   "metadata": {},
   "outputs": [],
   "source": []
  },
  {
   "cell_type": "code",
   "execution_count": null,
   "id": "f062db5a",
   "metadata": {},
   "outputs": [],
   "source": []
  }
 ],
 "metadata": {
  "kernelspec": {
   "display_name": "Python 3 (ipykernel)",
   "language": "python",
   "name": "python3"
  },
  "language_info": {
   "codemirror_mode": {
    "name": "ipython",
    "version": 3
   },
   "file_extension": ".py",
   "mimetype": "text/x-python",
   "name": "python",
   "nbconvert_exporter": "python",
   "pygments_lexer": "ipython3",
   "version": "3.11.0rc2"
  }
 },
 "nbformat": 4,
 "nbformat_minor": 5
}
